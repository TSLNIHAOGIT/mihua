{
 "cells": [
  {
   "cell_type": "code",
   "execution_count": 25,
   "metadata": {
    "collapsed": true
   },
   "outputs": [],
   "source": [
    "text='''\n",
    "<html>\n",
    " <head>\n",
    "  天气真好\n",
    "  <base href='http://example.com/' />\n",
    "  <title>\n",
    "  Example website\n",
    "  黑恶化\n",
    "  <base href='http://example.com/' />\n",
    "  </title>\n",
    " </head>\n",
    " <body>\n",
    "  <div id='images'>\n",
    "   <a href='image1.html'>Name: My image 1 <br />![](image1_thumb.jpg)</a>\n",
    "   <a href='image2.html'>Name: My image 2 <br />![](image2_thumb.jpg)</a>\n",
    "   <a href='image3.html'>Name: My image 3 <br />![](image3_thumb.jpg)</a>\n",
    "   <a href='image4.html'>Name: My image 4 <br />![](image4_thumb.jpg)</a>\n",
    "   <a href='image5.html'>Name: My image 5 <br />![](image5_thumb.jpg)</a>\n",
    "  </div>\n",
    " </body>\n",
    "</html>\n",
    "\n",
    "'''"
   ]
  },
  {
   "cell_type": "code",
   "execution_count": 3,
   "metadata": {},
   "outputs": [],
   "source": [
    "import json\n",
    "from scrapy.selector import Selector"
   ]
  },
  {
   "cell_type": "code",
   "execution_count": 4,
   "metadata": {},
   "outputs": [
    {
     "name": "stdout",
     "output_type": "stream",
     "text": [
      "res0 ['\\n ', '\\n ', '\\n']\n"
     ]
    }
   ],
   "source": [
    "res0 = Selector(text=text).xpath(\n",
    "        '/html/text()').extract()\n",
    "print('res0', res0)"
   ]
  },
  {
   "cell_type": "code",
   "execution_count": 23,
   "metadata": {},
   "outputs": [
    {
     "name": "stdout",
     "output_type": "stream",
     "text": [
      "res0 []\n"
     ]
    }
   ],
   "source": [
    "res0 = Selector(text=text).xpath(\n",
    "        '//head//text()').extract()\n",
    "print('res0', res0)"
   ]
  },
  {
   "cell_type": "code",
   "execution_count": 26,
   "metadata": {},
   "outputs": [
    {
     "name": "stdout",
     "output_type": "stream",
     "text": [
      "res0 []\n"
     ]
    }
   ],
   "source": [
    "res0 = Selector(text=text).xpath(\n",
    "        '//head/title/text()').extract()\n",
    "print('res0', res0)"
   ]
  },
  {
   "cell_type": "code",
   "execution_count": 29,
   "metadata": {},
   "outputs": [
    {
     "name": "stdout",
     "output_type": "stream",
     "text": [
      "res0 ['image1.html', 'image2.html', 'image3.html', 'image4.html', 'image5.html']\n"
     ]
    }
   ],
   "source": [
    "res0 = Selector(text=text).xpath(\n",
    "        '//a/@href').extract()\n",
    "print('res0', res0)"
   ]
  },
  {
   "cell_type": "code",
   "execution_count": 30,
   "metadata": {},
   "outputs": [
    {
     "name": "stdout",
     "output_type": "stream",
     "text": [
      "res0 ['Name: My image 1 ', '![](image1_thumb.jpg)', 'Name: My image 2 ', '![](image2_thumb.jpg)', 'Name: My image 3 ', '![](image3_thumb.jpg)', 'Name: My image 4 ', '![](image4_thumb.jpg)', 'Name: My image 5 ', '![](image5_thumb.jpg)']\n"
     ]
    }
   ],
   "source": [
    "res0 = Selector(text=text).xpath(\n",
    "        '//a/text()').extract()\n",
    "print('res0', res0)"
   ]
  },
  {
   "cell_type": "code",
   "execution_count": null,
   "metadata": {},
   "outputs": [],
   "source": [
    ""
   ]
  }
 ],
 "metadata": {
  "kernelspec": {
   "display_name": "Python 2",
   "language": "python",
   "name": "python2"
  },
  "language_info": {
   "codemirror_mode": {
    "name": "ipython",
    "version": 2.0
   },
   "file_extension": ".py",
   "mimetype": "text/x-python",
   "name": "python",
   "nbconvert_exporter": "python",
   "pygments_lexer": "ipython2",
   "version": "2.7.6"
  }
 },
 "nbformat": 4,
 "nbformat_minor": 0
}